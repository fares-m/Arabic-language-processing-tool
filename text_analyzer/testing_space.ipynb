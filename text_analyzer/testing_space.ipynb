{
 "cells": [
  {
   "cell_type": "code",
   "execution_count": null,
   "id": "0bea7c91",
   "metadata": {},
   "outputs": [],
   "source": [
    "def fix_weight(word:str , weight:str):\n",
    "    word_len = len(word)\n",
    "\n",
    "    # if no 0x00 0x01 in weight mean that word len must equal weight len\n",
    "    if (\"\\x00\" not in weight) and  (\"\\x01\" not in weight): \n",
    "        fixed_weight = weight[:word_len]\n",
    "        # simple condition (if the three origin letter not exist at least once return -1 )\n",
    "        if (fixed_weight.count('ف') + fixed_weight.count('ع') + fixed_weight.count('ل') ) <3:return -1 \n",
    "        return fixed_weight\n",
    "    \n",
    "    # otherwise (there is a 0x00 OR 0x01 in weight)\n",
    "    if (\"\\x00\" in weight):word_len +=2 # weight will be longer in 2 char if there is a deleted  letter | ex : يبع : يبي0ع\n",
    "    if (\"\\x01\" in weight):word_len +=1 # weight will be longer in 1 char if there is a replaced letter | ex : صيام : فو1ال\n",
    "    fixed_weight = weight[:word_len]\n",
    "    # spacial char : [ 0x00 , 0x01 ]\n",
    "    # simple condition (if the three origin letters OR spacial char letter did not occur 3 times at least , return -1 )\n",
    "    if (fixed_weight.count('ف') + fixed_weight.count('ع') + fixed_weight.count('ل') + fixed_weight.count(\"\\x00\") + fixed_weight.count(\"\\x01\")) < 3:return -1\n",
    "\n",
    "    \"\"\"these conditions are a simple condition, will not fix corrupted weights allways\"\"\"\n",
    "    return fixed_weight\n",
    "\n"
   ]
  },
  {
   "cell_type": "code",
   "execution_count": 97,
   "id": "fd872688",
   "metadata": {},
   "outputs": [
    {
     "data": {
      "text/plain": [
       "'بيفعللي'"
      ]
     },
     "execution_count": 97,
     "metadata": {},
     "output_type": "execute_result"
    }
   ],
   "source": [
    "fix_weight(\"بيضربلي\" , 'بيفعللي')"
   ]
  },
  {
   "cell_type": "code",
   "execution_count": 85,
   "id": "514fa71b",
   "metadata": {},
   "outputs": [],
   "source": [
    "def fix_weight(word , weight):\n",
    "    word_len = len(word)\n",
    "    weight_len = len(weight)\n",
    "    if (\"\\x00\" not in weight) and  (\"\\x01\" not in weight): return weight[:word_len]\n",
    "    \n",
    "    new_weight = []\n",
    "    counter = 0\n",
    "    root_counter = 0\n",
    "    for index , i in enumerate(weight):\n",
    "        print(i , new_weight , root_counter , counter , word_len)\n",
    "        if i == '\\x00' :word_len += 1\n",
    "        if i in 'فعل' : root_counter+=1\n",
    "        if i not in ['\\x01' , '\\x00'] :\n",
    "            new_weight.append(i)\n",
    "            counter +=1\n",
    "        else :root_counter+=1;new_weight.append(i)\n",
    "        if counter == word_len and root_counter>=3:\n",
    "            return \"\".join(new_weight)\n",
    "    return -1"
   ]
  },
  {
   "cell_type": "code",
   "execution_count": null,
   "id": "e5f4bae2",
   "metadata": {},
   "outputs": [
    {
     "data": {
      "text/plain": [
       "'ففعي\\x01'"
      ]
     },
     "execution_count": 98,
     "metadata": {},
     "output_type": "execute_result"
    }
   ],
   "source": [
    "fix_weight(\"فقضى\" , 'ففعي\\x01')"
   ]
  },
  {
   "cell_type": "code",
   "execution_count": 99,
   "id": "04354ba4",
   "metadata": {},
   "outputs": [],
   "source": [
    "def get_root_type(word , weight):#فعللتهما\n",
    "    counter = 0\n",
    "    if weight[2:].count('ل') > 1 :\n",
    "        for  index , letter in enumerate(weight[2:]) :\n",
    "            if letter == 'ل' and word[index+2] != 'ل' :\n",
    "                counter+=1\n",
    "            if counter > 1 :return \"4\"\n",
    "    return \"3\""
   ]
  },
  {
   "cell_type": "code",
   "execution_count": 102,
   "id": "072f9314",
   "metadata": {},
   "outputs": [
    {
     "data": {
      "text/plain": [
       "'3'"
      ]
     },
     "execution_count": 102,
     "metadata": {},
     "output_type": "execute_result"
    }
   ],
   "source": [
    "get_root_type(\"تضربلي\" , \"تفعللي\")"
   ]
  }
 ],
 "metadata": {
  "kernelspec": {
   "display_name": "Python 3",
   "language": "python",
   "name": "python3"
  },
  "language_info": {
   "codemirror_mode": {
    "name": "ipython",
    "version": 3
   },
   "file_extension": ".py",
   "mimetype": "text/x-python",
   "name": "python",
   "nbconvert_exporter": "python",
   "pygments_lexer": "ipython3",
   "version": "3.11.9"
  }
 },
 "nbformat": 4,
 "nbformat_minor": 5
}
